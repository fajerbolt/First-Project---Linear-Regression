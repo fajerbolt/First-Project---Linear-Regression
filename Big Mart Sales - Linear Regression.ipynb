{
 "cells": [
  {
   "cell_type": "markdown",
   "metadata": {},
   "source": [
    "# Predicting sales using linear regression\n",
    "\n",
    "This notebook presents a solution to a regression problem that can be found at: https://datahack.analyticsvidhya.com/contest/practice-problem-big-mart-sales-iii/\n",
    "\n",
    "This is my first data science project, and I have built this notebook in order to develop my skills, and get myself familiar with the data science pipeline.\n",
    "\n",
    "The algorithm used is linear regression."
   ]
  },
  {
   "cell_type": "code",
   "execution_count": 2,
   "metadata": {},
   "outputs": [],
   "source": [
    "import pandas as pd\n",
    "import numpy as np"
   ]
  },
  {
   "cell_type": "markdown",
   "metadata": {},
   "source": [
    "## 1. Importing data and exploring the dataset"
   ]
  },
  {
   "cell_type": "code",
   "execution_count": 3,
   "metadata": {},
   "outputs": [],
   "source": [
    "raw = pd.read_csv('Documents/Data Science/Datasets/Big Mart Sales Train')"
   ]
  },
  {
   "cell_type": "code",
   "execution_count": 4,
   "metadata": {},
   "outputs": [
    {
     "data": {
      "text/html": [
       "<div>\n",
       "<style scoped>\n",
       "    .dataframe tbody tr th:only-of-type {\n",
       "        vertical-align: middle;\n",
       "    }\n",
       "\n",
       "    .dataframe tbody tr th {\n",
       "        vertical-align: top;\n",
       "    }\n",
       "\n",
       "    .dataframe thead th {\n",
       "        text-align: right;\n",
       "    }\n",
       "</style>\n",
       "<table border=\"1\" class=\"dataframe\">\n",
       "  <thead>\n",
       "    <tr style=\"text-align: right;\">\n",
       "      <th></th>\n",
       "      <th>Item_Identifier</th>\n",
       "      <th>Item_Weight</th>\n",
       "      <th>Item_Fat_Content</th>\n",
       "      <th>Item_Visibility</th>\n",
       "      <th>Item_Type</th>\n",
       "      <th>Item_MRP</th>\n",
       "      <th>Outlet_Identifier</th>\n",
       "      <th>Outlet_Establishment_Year</th>\n",
       "      <th>Outlet_Size</th>\n",
       "      <th>Outlet_Location_Type</th>\n",
       "      <th>Outlet_Type</th>\n",
       "      <th>Item_Outlet_Sales</th>\n",
       "    </tr>\n",
       "  </thead>\n",
       "  <tbody>\n",
       "    <tr>\n",
       "      <td>0</td>\n",
       "      <td>FDA15</td>\n",
       "      <td>9.30</td>\n",
       "      <td>Low Fat</td>\n",
       "      <td>0.016047</td>\n",
       "      <td>Dairy</td>\n",
       "      <td>249.8092</td>\n",
       "      <td>OUT049</td>\n",
       "      <td>1999</td>\n",
       "      <td>Medium</td>\n",
       "      <td>Tier 1</td>\n",
       "      <td>Supermarket Type1</td>\n",
       "      <td>3735.1380</td>\n",
       "    </tr>\n",
       "    <tr>\n",
       "      <td>1</td>\n",
       "      <td>DRC01</td>\n",
       "      <td>5.92</td>\n",
       "      <td>Regular</td>\n",
       "      <td>0.019278</td>\n",
       "      <td>Soft Drinks</td>\n",
       "      <td>48.2692</td>\n",
       "      <td>OUT018</td>\n",
       "      <td>2009</td>\n",
       "      <td>Medium</td>\n",
       "      <td>Tier 3</td>\n",
       "      <td>Supermarket Type2</td>\n",
       "      <td>443.4228</td>\n",
       "    </tr>\n",
       "    <tr>\n",
       "      <td>2</td>\n",
       "      <td>FDN15</td>\n",
       "      <td>17.50</td>\n",
       "      <td>Low Fat</td>\n",
       "      <td>0.016760</td>\n",
       "      <td>Meat</td>\n",
       "      <td>141.6180</td>\n",
       "      <td>OUT049</td>\n",
       "      <td>1999</td>\n",
       "      <td>Medium</td>\n",
       "      <td>Tier 1</td>\n",
       "      <td>Supermarket Type1</td>\n",
       "      <td>2097.2700</td>\n",
       "    </tr>\n",
       "    <tr>\n",
       "      <td>3</td>\n",
       "      <td>FDX07</td>\n",
       "      <td>19.20</td>\n",
       "      <td>Regular</td>\n",
       "      <td>0.000000</td>\n",
       "      <td>Fruits and Vegetables</td>\n",
       "      <td>182.0950</td>\n",
       "      <td>OUT010</td>\n",
       "      <td>1998</td>\n",
       "      <td>NaN</td>\n",
       "      <td>Tier 3</td>\n",
       "      <td>Grocery Store</td>\n",
       "      <td>732.3800</td>\n",
       "    </tr>\n",
       "    <tr>\n",
       "      <td>4</td>\n",
       "      <td>NCD19</td>\n",
       "      <td>8.93</td>\n",
       "      <td>Low Fat</td>\n",
       "      <td>0.000000</td>\n",
       "      <td>Household</td>\n",
       "      <td>53.8614</td>\n",
       "      <td>OUT013</td>\n",
       "      <td>1987</td>\n",
       "      <td>High</td>\n",
       "      <td>Tier 3</td>\n",
       "      <td>Supermarket Type1</td>\n",
       "      <td>994.7052</td>\n",
       "    </tr>\n",
       "  </tbody>\n",
       "</table>\n",
       "</div>"
      ],
      "text/plain": [
       "  Item_Identifier  Item_Weight Item_Fat_Content  Item_Visibility  \\\n",
       "0           FDA15         9.30          Low Fat         0.016047   \n",
       "1           DRC01         5.92          Regular         0.019278   \n",
       "2           FDN15        17.50          Low Fat         0.016760   \n",
       "3           FDX07        19.20          Regular         0.000000   \n",
       "4           NCD19         8.93          Low Fat         0.000000   \n",
       "\n",
       "               Item_Type  Item_MRP Outlet_Identifier  \\\n",
       "0                  Dairy  249.8092            OUT049   \n",
       "1            Soft Drinks   48.2692            OUT018   \n",
       "2                   Meat  141.6180            OUT049   \n",
       "3  Fruits and Vegetables  182.0950            OUT010   \n",
       "4              Household   53.8614            OUT013   \n",
       "\n",
       "   Outlet_Establishment_Year Outlet_Size Outlet_Location_Type  \\\n",
       "0                       1999      Medium               Tier 1   \n",
       "1                       2009      Medium               Tier 3   \n",
       "2                       1999      Medium               Tier 1   \n",
       "3                       1998         NaN               Tier 3   \n",
       "4                       1987        High               Tier 3   \n",
       "\n",
       "         Outlet_Type  Item_Outlet_Sales  \n",
       "0  Supermarket Type1          3735.1380  \n",
       "1  Supermarket Type2           443.4228  \n",
       "2  Supermarket Type1          2097.2700  \n",
       "3      Grocery Store           732.3800  \n",
       "4  Supermarket Type1           994.7052  "
      ]
     },
     "execution_count": 4,
     "metadata": {},
     "output_type": "execute_result"
    }
   ],
   "source": [
    "raw.head()"
   ]
  },
  {
   "cell_type": "code",
   "execution_count": 5,
   "metadata": {},
   "outputs": [
    {
     "name": "stdout",
     "output_type": "stream",
     "text": [
      "<class 'pandas.core.frame.DataFrame'>\n",
      "RangeIndex: 8523 entries, 0 to 8522\n",
      "Data columns (total 12 columns):\n",
      "Item_Identifier              8523 non-null object\n",
      "Item_Weight                  7060 non-null float64\n",
      "Item_Fat_Content             8523 non-null object\n",
      "Item_Visibility              8523 non-null float64\n",
      "Item_Type                    8523 non-null object\n",
      "Item_MRP                     8523 non-null float64\n",
      "Outlet_Identifier            8523 non-null object\n",
      "Outlet_Establishment_Year    8523 non-null int64\n",
      "Outlet_Size                  6113 non-null object\n",
      "Outlet_Location_Type         8523 non-null object\n",
      "Outlet_Type                  8523 non-null object\n",
      "Item_Outlet_Sales            8523 non-null float64\n",
      "dtypes: float64(4), int64(1), object(7)\n",
      "memory usage: 799.2+ KB\n"
     ]
    }
   ],
   "source": [
    "raw.info()"
   ]
  },
  {
   "cell_type": "code",
   "execution_count": 6,
   "metadata": {},
   "outputs": [],
   "source": [
    "variables = raw.drop(columns = ['Item_Identifier', 'Outlet_Identifier'])"
   ]
  },
  {
   "cell_type": "code",
   "execution_count": 7,
   "metadata": {},
   "outputs": [
    {
     "data": {
      "text/plain": [
       "array(['Low Fat', 'Regular', 'low fat', 'LF', 'reg'], dtype=object)"
      ]
     },
     "execution_count": 7,
     "metadata": {},
     "output_type": "execute_result"
    }
   ],
   "source": [
    "variables.Item_Fat_Content.unique()"
   ]
  },
  {
   "cell_type": "markdown",
   "metadata": {},
   "source": [
    "### 1.1 Recoding variables\n",
    "\n",
    "We can see that column Item_Fat_Content has diferent values for same categories (reg should be Regular for example). This means that values need to be recoded."
   ]
  },
  {
   "cell_type": "code",
   "execution_count": 8,
   "metadata": {},
   "outputs": [
    {
     "data": {
      "text/plain": [
       "array(['Low Fat', 'Regular'], dtype=object)"
      ]
     },
     "execution_count": 8,
     "metadata": {},
     "output_type": "execute_result"
    }
   ],
   "source": [
    "variables = variables.replace({'Item_Fat_Content':{'low fat':'Low Fat','LF':'Low Fat','reg':'Regular'}});\n",
    "variables.Item_Fat_Content.unique()"
   ]
  },
  {
   "cell_type": "code",
   "execution_count": 9,
   "metadata": {},
   "outputs": [
    {
     "data": {
      "text/plain": [
       "array(['Dairy', 'Soft Drinks', 'Meat', 'Fruits and Vegetables',\n",
       "       'Household', 'Baking Goods', 'Snack Foods', 'Frozen Foods',\n",
       "       'Breakfast', 'Health and Hygiene', 'Hard Drinks', 'Canned',\n",
       "       'Breads', 'Starchy Foods', 'Others', 'Seafood'], dtype=object)"
      ]
     },
     "execution_count": 9,
     "metadata": {},
     "output_type": "execute_result"
    }
   ],
   "source": [
    "variables.Item_Type.unique()"
   ]
  },
  {
   "cell_type": "code",
   "execution_count": 10,
   "metadata": {},
   "outputs": [
    {
     "data": {
      "text/plain": [
       "array(['Medium', nan, 'High', 'Small'], dtype=object)"
      ]
     },
     "execution_count": 10,
     "metadata": {},
     "output_type": "execute_result"
    }
   ],
   "source": [
    "variables.Outlet_Size.unique()"
   ]
  },
  {
   "cell_type": "code",
   "execution_count": 11,
   "metadata": {},
   "outputs": [
    {
     "data": {
      "text/plain": [
       "array(['Tier 1', 'Tier 3', 'Tier 2'], dtype=object)"
      ]
     },
     "execution_count": 11,
     "metadata": {},
     "output_type": "execute_result"
    }
   ],
   "source": [
    "variables.Outlet_Location_Type.unique()"
   ]
  },
  {
   "cell_type": "code",
   "execution_count": 12,
   "metadata": {},
   "outputs": [
    {
     "data": {
      "text/plain": [
       "array(['Supermarket Type1', 'Supermarket Type2', 'Grocery Store',\n",
       "       'Supermarket Type3'], dtype=object)"
      ]
     },
     "execution_count": 12,
     "metadata": {},
     "output_type": "execute_result"
    }
   ],
   "source": [
    "variables.Outlet_Type.unique()"
   ]
  },
  {
   "cell_type": "code",
   "execution_count": 13,
   "metadata": {},
   "outputs": [
    {
     "data": {
      "text/html": [
       "<div>\n",
       "<style scoped>\n",
       "    .dataframe tbody tr th:only-of-type {\n",
       "        vertical-align: middle;\n",
       "    }\n",
       "\n",
       "    .dataframe tbody tr th {\n",
       "        vertical-align: top;\n",
       "    }\n",
       "\n",
       "    .dataframe thead th {\n",
       "        text-align: right;\n",
       "    }\n",
       "</style>\n",
       "<table border=\"1\" class=\"dataframe\">\n",
       "  <thead>\n",
       "    <tr style=\"text-align: right;\">\n",
       "      <th></th>\n",
       "      <th>Item_Weight</th>\n",
       "      <th>Item_Visibility</th>\n",
       "      <th>Item_MRP</th>\n",
       "      <th>Outlet_Establishment_Year</th>\n",
       "      <th>Item_Outlet_Sales</th>\n",
       "    </tr>\n",
       "  </thead>\n",
       "  <tbody>\n",
       "    <tr>\n",
       "      <td>count</td>\n",
       "      <td>7060.000000</td>\n",
       "      <td>8523.000000</td>\n",
       "      <td>8523.000000</td>\n",
       "      <td>8523.000000</td>\n",
       "      <td>8523.000000</td>\n",
       "    </tr>\n",
       "    <tr>\n",
       "      <td>mean</td>\n",
       "      <td>12.857645</td>\n",
       "      <td>0.066132</td>\n",
       "      <td>140.992782</td>\n",
       "      <td>1997.831867</td>\n",
       "      <td>2181.288914</td>\n",
       "    </tr>\n",
       "    <tr>\n",
       "      <td>std</td>\n",
       "      <td>4.643456</td>\n",
       "      <td>0.051598</td>\n",
       "      <td>62.275067</td>\n",
       "      <td>8.371760</td>\n",
       "      <td>1706.499616</td>\n",
       "    </tr>\n",
       "    <tr>\n",
       "      <td>min</td>\n",
       "      <td>4.555000</td>\n",
       "      <td>0.000000</td>\n",
       "      <td>31.290000</td>\n",
       "      <td>1985.000000</td>\n",
       "      <td>33.290000</td>\n",
       "    </tr>\n",
       "    <tr>\n",
       "      <td>25%</td>\n",
       "      <td>8.773750</td>\n",
       "      <td>0.026989</td>\n",
       "      <td>93.826500</td>\n",
       "      <td>1987.000000</td>\n",
       "      <td>834.247400</td>\n",
       "    </tr>\n",
       "    <tr>\n",
       "      <td>50%</td>\n",
       "      <td>12.600000</td>\n",
       "      <td>0.053931</td>\n",
       "      <td>143.012800</td>\n",
       "      <td>1999.000000</td>\n",
       "      <td>1794.331000</td>\n",
       "    </tr>\n",
       "    <tr>\n",
       "      <td>75%</td>\n",
       "      <td>16.850000</td>\n",
       "      <td>0.094585</td>\n",
       "      <td>185.643700</td>\n",
       "      <td>2004.000000</td>\n",
       "      <td>3101.296400</td>\n",
       "    </tr>\n",
       "    <tr>\n",
       "      <td>max</td>\n",
       "      <td>21.350000</td>\n",
       "      <td>0.328391</td>\n",
       "      <td>266.888400</td>\n",
       "      <td>2009.000000</td>\n",
       "      <td>13086.964800</td>\n",
       "    </tr>\n",
       "  </tbody>\n",
       "</table>\n",
       "</div>"
      ],
      "text/plain": [
       "       Item_Weight  Item_Visibility     Item_MRP  Outlet_Establishment_Year  \\\n",
       "count  7060.000000      8523.000000  8523.000000                8523.000000   \n",
       "mean     12.857645         0.066132   140.992782                1997.831867   \n",
       "std       4.643456         0.051598    62.275067                   8.371760   \n",
       "min       4.555000         0.000000    31.290000                1985.000000   \n",
       "25%       8.773750         0.026989    93.826500                1987.000000   \n",
       "50%      12.600000         0.053931   143.012800                1999.000000   \n",
       "75%      16.850000         0.094585   185.643700                2004.000000   \n",
       "max      21.350000         0.328391   266.888400                2009.000000   \n",
       "\n",
       "       Item_Outlet_Sales  \n",
       "count        8523.000000  \n",
       "mean         2181.288914  \n",
       "std          1706.499616  \n",
       "min            33.290000  \n",
       "25%           834.247400  \n",
       "50%          1794.331000  \n",
       "75%          3101.296400  \n",
       "max         13086.964800  "
      ]
     },
     "execution_count": 13,
     "metadata": {},
     "output_type": "execute_result"
    }
   ],
   "source": [
    "variables.describe()"
   ]
  },
  {
   "cell_type": "markdown",
   "metadata": {},
   "source": [
    "### 1.2 Recoding variables 2\n",
    "\n",
    "Since it doesn't make sense for the column Item_Visibility to have values of 0, every 0 is being replaced with nan."
   ]
  },
  {
   "cell_type": "code",
   "execution_count": 14,
   "metadata": {},
   "outputs": [
    {
     "data": {
      "text/html": [
       "<div>\n",
       "<style scoped>\n",
       "    .dataframe tbody tr th:only-of-type {\n",
       "        vertical-align: middle;\n",
       "    }\n",
       "\n",
       "    .dataframe tbody tr th {\n",
       "        vertical-align: top;\n",
       "    }\n",
       "\n",
       "    .dataframe thead th {\n",
       "        text-align: right;\n",
       "    }\n",
       "</style>\n",
       "<table border=\"1\" class=\"dataframe\">\n",
       "  <thead>\n",
       "    <tr style=\"text-align: right;\">\n",
       "      <th></th>\n",
       "      <th>Item_Weight</th>\n",
       "      <th>Item_Visibility</th>\n",
       "      <th>Item_MRP</th>\n",
       "      <th>Outlet_Establishment_Year</th>\n",
       "      <th>Item_Outlet_Sales</th>\n",
       "    </tr>\n",
       "  </thead>\n",
       "  <tbody>\n",
       "    <tr>\n",
       "      <td>count</td>\n",
       "      <td>7060.000000</td>\n",
       "      <td>7997.000000</td>\n",
       "      <td>8523.000000</td>\n",
       "      <td>8523.000000</td>\n",
       "      <td>8523.000000</td>\n",
       "    </tr>\n",
       "    <tr>\n",
       "      <td>mean</td>\n",
       "      <td>12.857645</td>\n",
       "      <td>0.070482</td>\n",
       "      <td>140.992782</td>\n",
       "      <td>1997.831867</td>\n",
       "      <td>2181.288914</td>\n",
       "    </tr>\n",
       "    <tr>\n",
       "      <td>std</td>\n",
       "      <td>4.643456</td>\n",
       "      <td>0.050308</td>\n",
       "      <td>62.275067</td>\n",
       "      <td>8.371760</td>\n",
       "      <td>1706.499616</td>\n",
       "    </tr>\n",
       "    <tr>\n",
       "      <td>min</td>\n",
       "      <td>4.555000</td>\n",
       "      <td>0.003575</td>\n",
       "      <td>31.290000</td>\n",
       "      <td>1985.000000</td>\n",
       "      <td>33.290000</td>\n",
       "    </tr>\n",
       "    <tr>\n",
       "      <td>25%</td>\n",
       "      <td>8.773750</td>\n",
       "      <td>0.031403</td>\n",
       "      <td>93.826500</td>\n",
       "      <td>1987.000000</td>\n",
       "      <td>834.247400</td>\n",
       "    </tr>\n",
       "    <tr>\n",
       "      <td>50%</td>\n",
       "      <td>12.600000</td>\n",
       "      <td>0.057792</td>\n",
       "      <td>143.012800</td>\n",
       "      <td>1999.000000</td>\n",
       "      <td>1794.331000</td>\n",
       "    </tr>\n",
       "    <tr>\n",
       "      <td>75%</td>\n",
       "      <td>16.850000</td>\n",
       "      <td>0.098109</td>\n",
       "      <td>185.643700</td>\n",
       "      <td>2004.000000</td>\n",
       "      <td>3101.296400</td>\n",
       "    </tr>\n",
       "    <tr>\n",
       "      <td>max</td>\n",
       "      <td>21.350000</td>\n",
       "      <td>0.328391</td>\n",
       "      <td>266.888400</td>\n",
       "      <td>2009.000000</td>\n",
       "      <td>13086.964800</td>\n",
       "    </tr>\n",
       "  </tbody>\n",
       "</table>\n",
       "</div>"
      ],
      "text/plain": [
       "       Item_Weight  Item_Visibility     Item_MRP  Outlet_Establishment_Year  \\\n",
       "count  7060.000000      7997.000000  8523.000000                8523.000000   \n",
       "mean     12.857645         0.070482   140.992782                1997.831867   \n",
       "std       4.643456         0.050308    62.275067                   8.371760   \n",
       "min       4.555000         0.003575    31.290000                1985.000000   \n",
       "25%       8.773750         0.031403    93.826500                1987.000000   \n",
       "50%      12.600000         0.057792   143.012800                1999.000000   \n",
       "75%      16.850000         0.098109   185.643700                2004.000000   \n",
       "max      21.350000         0.328391   266.888400                2009.000000   \n",
       "\n",
       "       Item_Outlet_Sales  \n",
       "count        8523.000000  \n",
       "mean         2181.288914  \n",
       "std          1706.499616  \n",
       "min            33.290000  \n",
       "25%           834.247400  \n",
       "50%          1794.331000  \n",
       "75%          3101.296400  \n",
       "max         13086.964800  "
      ]
     },
     "execution_count": 14,
     "metadata": {},
     "output_type": "execute_result"
    }
   ],
   "source": [
    "variables = variables.replace({'Item_Visibility' : {0 : np.nan}})\n",
    "variables.describe()"
   ]
  },
  {
   "cell_type": "markdown",
   "metadata": {},
   "source": [
    "### 2. Imputing missing values"
   ]
  },
  {
   "cell_type": "code",
   "execution_count": 15,
   "metadata": {},
   "outputs": [],
   "source": [
    "from autoimpute.imputations import SingleImputer"
   ]
  },
  {
   "cell_type": "code",
   "execution_count": 16,
   "metadata": {},
   "outputs": [
    {
     "data": {
      "text/plain": [
       "Index(['Item_Identifier', 'Item_Weight', 'Item_Fat_Content', 'Item_Visibility',\n",
       "       'Item_Type', 'Item_MRP', 'Outlet_Identifier',\n",
       "       'Outlet_Establishment_Year', 'Outlet_Size', 'Outlet_Location_Type',\n",
       "       'Outlet_Type', 'Item_Outlet_Sales'],\n",
       "      dtype='object')"
      ]
     },
     "execution_count": 16,
     "metadata": {},
     "output_type": "execute_result"
    }
   ],
   "source": [
    "raw.columns"
   ]
  },
  {
   "cell_type": "code",
   "execution_count": 17,
   "metadata": {},
   "outputs": [],
   "source": [
    "imputer = SingleImputer(strategy = {'Item_Weight':'interpolate',\n",
    "                                      'Item_Visibility':'interpolate',\n",
    "                                     'Outlet_Size':'categorical'}, seed = 101)"
   ]
  },
  {
   "cell_type": "code",
   "execution_count": 18,
   "metadata": {},
   "outputs": [],
   "source": [
    "#Joining Item and Outlet identifiers to imputed dataset\n",
    "\n",
    "imputations = pd.concat([imputer.fit_transform(variables), raw.Item_Identifier, raw.Outlet_Identifier], axis = 1)"
   ]
  },
  {
   "cell_type": "markdown",
   "metadata": {},
   "source": [
    "### 3. EDA on imputed dataset"
   ]
  },
  {
   "cell_type": "code",
   "execution_count": 19,
   "metadata": {},
   "outputs": [],
   "source": [
    "import matplotlib.pyplot as plt\n",
    "import seaborn as sns"
   ]
  },
  {
   "cell_type": "code",
   "execution_count": 20,
   "metadata": {},
   "outputs": [
    {
     "data": {
      "text/html": [
       "<div>\n",
       "<style scoped>\n",
       "    .dataframe tbody tr th:only-of-type {\n",
       "        vertical-align: middle;\n",
       "    }\n",
       "\n",
       "    .dataframe tbody tr th {\n",
       "        vertical-align: top;\n",
       "    }\n",
       "\n",
       "    .dataframe thead th {\n",
       "        text-align: right;\n",
       "    }\n",
       "</style>\n",
       "<table border=\"1\" class=\"dataframe\">\n",
       "  <thead>\n",
       "    <tr style=\"text-align: right;\">\n",
       "      <th></th>\n",
       "      <th>Item_Weight</th>\n",
       "      <th>Item_Visibility</th>\n",
       "      <th>Item_MRP</th>\n",
       "      <th>Outlet_Establishment_Year</th>\n",
       "      <th>Item_Outlet_Sales</th>\n",
       "    </tr>\n",
       "  </thead>\n",
       "  <tbody>\n",
       "    <tr>\n",
       "      <td>count</td>\n",
       "      <td>8523.000000</td>\n",
       "      <td>8523.000000</td>\n",
       "      <td>8523.000000</td>\n",
       "      <td>8523.000000</td>\n",
       "      <td>8523.000000</td>\n",
       "    </tr>\n",
       "    <tr>\n",
       "      <td>mean</td>\n",
       "      <td>12.831222</td>\n",
       "      <td>0.070340</td>\n",
       "      <td>140.992782</td>\n",
       "      <td>1997.831867</td>\n",
       "      <td>2181.288914</td>\n",
       "    </tr>\n",
       "    <tr>\n",
       "      <td>std</td>\n",
       "      <td>4.445074</td>\n",
       "      <td>0.049493</td>\n",
       "      <td>62.275067</td>\n",
       "      <td>8.371760</td>\n",
       "      <td>1706.499616</td>\n",
       "    </tr>\n",
       "    <tr>\n",
       "      <td>min</td>\n",
       "      <td>4.555000</td>\n",
       "      <td>0.003575</td>\n",
       "      <td>31.290000</td>\n",
       "      <td>1985.000000</td>\n",
       "      <td>33.290000</td>\n",
       "    </tr>\n",
       "    <tr>\n",
       "      <td>25%</td>\n",
       "      <td>9.000000</td>\n",
       "      <td>0.032405</td>\n",
       "      <td>93.826500</td>\n",
       "      <td>1987.000000</td>\n",
       "      <td>834.247400</td>\n",
       "    </tr>\n",
       "    <tr>\n",
       "      <td>50%</td>\n",
       "      <td>12.600000</td>\n",
       "      <td>0.058182</td>\n",
       "      <td>143.012800</td>\n",
       "      <td>1999.000000</td>\n",
       "      <td>1794.331000</td>\n",
       "    </tr>\n",
       "    <tr>\n",
       "      <td>75%</td>\n",
       "      <td>16.600000</td>\n",
       "      <td>0.097094</td>\n",
       "      <td>185.643700</td>\n",
       "      <td>2004.000000</td>\n",
       "      <td>3101.296400</td>\n",
       "    </tr>\n",
       "    <tr>\n",
       "      <td>max</td>\n",
       "      <td>21.350000</td>\n",
       "      <td>0.328391</td>\n",
       "      <td>266.888400</td>\n",
       "      <td>2009.000000</td>\n",
       "      <td>13086.964800</td>\n",
       "    </tr>\n",
       "  </tbody>\n",
       "</table>\n",
       "</div>"
      ],
      "text/plain": [
       "       Item_Weight  Item_Visibility     Item_MRP  Outlet_Establishment_Year  \\\n",
       "count  8523.000000      8523.000000  8523.000000                8523.000000   \n",
       "mean     12.831222         0.070340   140.992782                1997.831867   \n",
       "std       4.445074         0.049493    62.275067                   8.371760   \n",
       "min       4.555000         0.003575    31.290000                1985.000000   \n",
       "25%       9.000000         0.032405    93.826500                1987.000000   \n",
       "50%      12.600000         0.058182   143.012800                1999.000000   \n",
       "75%      16.600000         0.097094   185.643700                2004.000000   \n",
       "max      21.350000         0.328391   266.888400                2009.000000   \n",
       "\n",
       "       Item_Outlet_Sales  \n",
       "count        8523.000000  \n",
       "mean         2181.288914  \n",
       "std          1706.499616  \n",
       "min            33.290000  \n",
       "25%           834.247400  \n",
       "50%          1794.331000  \n",
       "75%          3101.296400  \n",
       "max         13086.964800  "
      ]
     },
     "execution_count": 20,
     "metadata": {},
     "output_type": "execute_result"
    }
   ],
   "source": [
    "imputations.describe()"
   ]
  },
  {
   "cell_type": "markdown",
   "metadata": {},
   "source": [
    "#### 3.1 Using box plots and value counts to determine the way data is distributed"
   ]
  },
  {
   "cell_type": "code",
   "execution_count": 21,
   "metadata": {},
   "outputs": [
    {
     "data": {
      "image/png": "[encoded data removed]",
      "text/plain": [
       "<Figure size 432x288 with 4 Axes>"
      ]
     },
     "metadata": {
      "needs_background": "light"
     },
     "output_type": "display_data"
    }
   ],
   "source": [
    "fig, ax = plt.subplots(1, 4)\n",
    "ax[0].boxplot(imputations.Item_Weight)\n",
    "ax[0].set_title('Item Weight')\n",
    "ax[1].boxplot(imputations.Item_Visibility)\n",
    "ax[1].set_title('Item Visibility')\n",
    "ax[2].boxplot(imputations.Item_MRP)\n",
    "ax[2].set_title('Item MRP')\n",
    "ax[3].boxplot(imputations.Item_Outlet_Sales)\n",
    "ax[3].set_title('Item Outlet Sales')\n",
    "plt.tight_layout(w_pad = 5)\n",
    "plt.show()"
   ]
  },
  {
   "cell_type": "code",
   "execution_count": 22,
   "metadata": {},
   "outputs": [
    {
     "data": {
      "text/plain": [
       "Low Fat    5517\n",
       "Regular    3006\n",
       "Name: Item_Fat_Content, dtype: int64"
      ]
     },
     "execution_count": 22,
     "metadata": {},
     "output_type": "execute_result"
    }
   ],
   "source": [
    "imputations.Item_Fat_Content.value_counts()"
   ]
  },
  {
   "cell_type": "code",
   "execution_count": 23,
   "metadata": {},
   "outputs": [
    {
     "data": {
      "text/plain": [
       "Fruits and Vegetables    1232\n",
       "Snack Foods              1200\n",
       "Household                 910\n",
       "Frozen Foods              856\n",
       "Dairy                     682\n",
       "Canned                    649\n",
       "Baking Goods              648\n",
       "Health and Hygiene        520\n",
       "Soft Drinks               445\n",
       "Meat                      425\n",
       "Breads                    251\n",
       "Hard Drinks               214\n",
       "Others                    169\n",
       "Starchy Foods             148\n",
       "Breakfast                 110\n",
       "Seafood                    64\n",
       "Name: Item_Type, dtype: int64"
      ]
     },
     "execution_count": 23,
     "metadata": {},
     "output_type": "execute_result"
    }
   ],
   "source": [
    "imputations.Item_Type.value_counts()"
   ]
  },
  {
   "cell_type": "code",
   "execution_count": 24,
   "metadata": {},
   "outputs": [
    {
     "data": {
      "text/plain": [
       "1985    1463\n",
       "1987     932\n",
       "1999     930\n",
       "1997     930\n",
       "2004     930\n",
       "2002     929\n",
       "2009     928\n",
       "2007     926\n",
       "1998     555\n",
       "Name: Outlet_Establishment_Year, dtype: int64"
      ]
     },
     "execution_count": 24,
     "metadata": {},
     "output_type": "execute_result"
    }
   ],
   "source": [
    "imputations.Outlet_Establishment_Year.value_counts()"
   ]
  },
  {
   "cell_type": "code",
   "execution_count": 25,
   "metadata": {},
   "outputs": [
    {
     "data": {
      "text/plain": [
       "Medium    3908\n",
       "Small     3328\n",
       "High      1287\n",
       "Name: Outlet_Size, dtype: int64"
      ]
     },
     "execution_count": 25,
     "metadata": {},
     "output_type": "execute_result"
    }
   ],
   "source": [
    "imputations.Outlet_Size.value_counts()"
   ]
  },
  {
   "cell_type": "code",
   "execution_count": 26,
   "metadata": {},
   "outputs": [
    {
     "data": {
      "text/plain": [
       "Tier 3    3350\n",
       "Tier 2    2785\n",
       "Tier 1    2388\n",
       "Name: Outlet_Location_Type, dtype: int64"
      ]
     },
     "execution_count": 26,
     "metadata": {},
     "output_type": "execute_result"
    }
   ],
   "source": [
    "imputations.Outlet_Location_Type.value_counts()"
   ]
  },
  {
   "cell_type": "code",
   "execution_count": 27,
   "metadata": {},
   "outputs": [
    {
     "data": {
      "text/plain": [
       "Supermarket Type1    5577\n",
       "Grocery Store        1083\n",
       "Supermarket Type3     935\n",
       "Supermarket Type2     928\n",
       "Name: Outlet_Type, dtype: int64"
      ]
     },
     "execution_count": 27,
     "metadata": {},
     "output_type": "execute_result"
    }
   ],
   "source": [
    "imputations.Outlet_Type.value_counts()"
   ]
  },
  {
   "cell_type": "markdown",
   "metadata": {},
   "source": [
    "#### 3.2 Using scatter plots, Pearson coefficient and chi square test to determine relationships in data"
   ]
  },
  {
   "cell_type": "code",
   "execution_count": 28,
   "metadata": {},
   "outputs": [
    {
     "data": {
      "image/png": "[encoded data removed]",
      "text/plain": [
       "<Figure size 432x288 with 1 Axes>"
      ]
     },
     "metadata": {
      "needs_background": "light"
     },
     "output_type": "display_data"
    }
   ],
   "source": [
    "fig, ax = plt.subplots()\n",
    "ax.scatter(imputations.Item_Weight, imputations.Item_Outlet_Sales)\n",
    "plt.show()"
   ]
  },
  {
   "cell_type": "code",
   "execution_count": 29,
   "metadata": {},
   "outputs": [
    {
     "data": {
      "image/png": "[encoded data removed]",
      "text/plain": [
       "<Figure size 432x288 with 1 Axes>"
      ]
     },
     "metadata": {
      "needs_background": "light"
     },
     "output_type": "display_data"
    }
   ],
   "source": [
    "fig, ax = plt.subplots()\n",
    "ax.scatter(imputations.Item_Visibility, imputations.Item_Outlet_Sales)\n",
    "plt.show()"
   ]
  },
  {
   "cell_type": "code",
   "execution_count": 30,
   "metadata": {},
   "outputs": [
    {
     "data": {
      "image/png": "[encoded data removed]",
      "text/plain": [
       "<Figure size 432x288 with 1 Axes>"
      ]
     },
     "metadata": {
      "needs_background": "light"
     },
     "output_type": "display_data"
    }
   ],
   "source": [
    "fig, ax = plt.subplots()\n",
    "ax.scatter(imputations.Item_MRP, imputations.Item_Outlet_Sales)\n",
    "plt.show()"
   ]
  },
  {
   "cell_type": "code",
   "execution_count": 31,
   "metadata": {},
   "outputs": [],
   "source": [
    "from scipy import stats"
   ]
  },
  {
   "cell_type": "code",
   "execution_count": 32,
   "metadata": {},
   "outputs": [
    {
     "name": "stdout",
     "output_type": "stream",
     "text": [
      "(0.014535651743138837, 0.1796586430195305)\n",
      "(-0.1338737146407038, 2.2124456098525225e-35)\n",
      "(0.5675744466569193, 0.0)\n"
     ]
    }
   ],
   "source": [
    "for column in [imputations.Item_Weight, imputations.Item_Visibility, imputations.Item_MRP]:\n",
    "    print(stats.pearsonr(column, imputations.Item_Outlet_Sales))"
   ]
  },
  {
   "cell_type": "code",
   "execution_count": 33,
   "metadata": {},
   "outputs": [
    {
     "name": "stdout",
     "output_type": "stream",
     "text": [
      "(-0.012096212228161278, 0.2641651688063188)\n",
      "(0.024839035252139527, 0.021838821746217516)\n",
      "(-0.006543830539084674, 0.5458137794225415)\n"
     ]
    }
   ],
   "source": [
    "print(stats.pearsonr(imputations.Item_Weight, imputations.Item_Visibility))\n",
    "print(stats.pearsonr(imputations.Item_Weight, imputations.Item_MRP))\n",
    "print(stats.pearsonr(imputations.Item_Visibility, imputations.Item_MRP))"
   ]
  },
  {
   "cell_type": "code",
   "execution_count": 34,
   "metadata": {
    "scrolled": true
   },
   "outputs": [
    {
     "name": "stdout",
     "output_type": "stream",
     "text": [
      "Chi Square and p-values: \n",
      "Item Fat Content and Item Type:\n",
      "(1509.0010155480727, 0.0)\n",
      "Item Fat Content and Outlet Size:\n",
      "(0.13069187251774067, 0.9367433538286681)\n",
      "Item Fat Content and Outlet Location Type:\n",
      "(0.12278491613950032, 0.9404540785482409)\n",
      "Item Fat Content and Outlet Type:\n",
      "(0.09915238514682442, 0.9919389464641075)\n",
      "Item Type and Outlet Size:\n",
      "(8.660427949231066, 0.9999516495979006)\n",
      "Item Type and Outlet Location Type:\n",
      "(13.325444358497318, 0.9963035075844918)\n",
      "Item Type and Outlet Type:\n",
      "(21.358383347922537, 0.9989342767300661)\n",
      "Outlet Size and Outlet Location Type:\n",
      "(2776.001554673845, 0.0)\n",
      "Outlet Size and Outlet Type:\n",
      "(3072.2675321953157, 0.0)\n",
      "Outlet Location Type and Outlet Type:\n",
      "(4725.606588766826, 0.0)\n",
      "Outlet Location Type and Outlet Establishment Year:\n",
      "(14983.114562149767, 0.0)\n",
      "Outlet Type and Outlet Establishment Year:\n",
      "(19837.414304459206, 0.0)\n",
      "Outlet Size and Outlet Establishment Year:\n",
      "(10670.347451793335, 0.0)\n"
     ]
    }
   ],
   "source": [
    "print('Chi Square and p-values: ')\n",
    "print('Item Fat Content and Item Type:')\n",
    "print(stats.chi2_contingency(pd.crosstab(imputations.Item_Fat_Content, imputations.Item_Type))[:2])\n",
    "print('Item Fat Content and Outlet Size:')\n",
    "print(stats.chi2_contingency(pd.crosstab(imputations.Item_Fat_Content, imputations.Outlet_Size))[:2])\n",
    "print('Item Fat Content and Outlet Location Type:')\n",
    "print(stats.chi2_contingency(pd.crosstab(imputations.Item_Fat_Content, imputations.Outlet_Location_Type))[:2])\n",
    "print('Item Fat Content and Outlet Type:')\n",
    "print(stats.chi2_contingency(pd.crosstab(imputations.Item_Fat_Content, imputations.Outlet_Type))[:2])\n",
    "print('Item Type and Outlet Size:')\n",
    "print(stats.chi2_contingency(pd.crosstab(imputations.Item_Type, imputations.Outlet_Size))[:2])\n",
    "print('Item Type and Outlet Location Type:')\n",
    "print(stats.chi2_contingency(pd.crosstab(imputations.Item_Type, imputations.Outlet_Location_Type))[:2])\n",
    "print('Item Type and Outlet Type:')\n",
    "print(stats.chi2_contingency(pd.crosstab(imputations.Item_Type, imputations.Outlet_Type))[:2])\n",
    "print('Outlet Size and Outlet Location Type:')\n",
    "print(stats.chi2_contingency(pd.crosstab(imputations.Outlet_Size, imputations.Outlet_Location_Type))[:2])\n",
    "print('Outlet Size and Outlet Type:')\n",
    "print(stats.chi2_contingency(pd.crosstab(imputations.Outlet_Size, imputations.Outlet_Type))[:2])\n",
    "print('Outlet Location Type and Outlet Type:')\n",
    "print(stats.chi2_contingency(pd.crosstab(imputations.Outlet_Location_Type, imputations.Outlet_Type))[:2])\n",
    "print('Outlet Location Type and Outlet Establishment Year:')\n",
    "print(stats.chi2_contingency(pd.crosstab(imputations.Outlet_Location_Type, imputations.Outlet_Establishment_Year))[:2])\n",
    "print('Outlet Type and Outlet Establishment Year:')\n",
    "print(stats.chi2_contingency(pd.crosstab(imputations.Outlet_Type, imputations.Outlet_Establishment_Year))[:2])\n",
    "print('Outlet Size and Outlet Establishment Year:')\n",
    "print(stats.chi2_contingency(pd.crosstab(imputations.Outlet_Size, imputations.Outlet_Establishment_Year))[:2])"
   ]
  },
  {
   "cell_type": "markdown",
   "metadata": {},
   "source": [
    "#### 3.3 Setting border for outliers in target variable"
   ]
  },
  {
   "cell_type": "code",
   "execution_count": 35,
   "metadata": {},
   "outputs": [
    {
     "data": {
      "text/plain": [
       "6501.8699"
      ]
     },
     "execution_count": 35,
     "metadata": {},
     "output_type": "execute_result"
    }
   ],
   "source": [
    "np.percentile(imputations.Item_Outlet_Sales, 75) + 1.5*stats.iqr(imputations.Item_Outlet_Sales)"
   ]
  },
  {
   "cell_type": "code",
   "execution_count": 36,
   "metadata": {},
   "outputs": [],
   "source": [
    "outliers = imputations['Item_Outlet_Sales'] > 6501.8699"
   ]
  },
  {
   "cell_type": "markdown",
   "metadata": {},
   "source": [
    "### 4. Feature engineering\n",
    "\n",
    "1. Making dummy variables for categorical data\n",
    "2. Making the inverse of Item_Visibility column because the scatter plot for this column resembles an inverse function\n",
    "3. Using Outlet_Establishment_Year column to create a column that represents the number of years an outlet has been open for. The year 2013 is used as a reference point because data is supposed to be from the same year.\n",
    "4. Dropping previously determined outliers"
   ]
  },
  {
   "cell_type": "code",
   "execution_count": 37,
   "metadata": {},
   "outputs": [],
   "source": [
    "imputations['Outlet_Type_SM1'] = imputations.Outlet_Type.replace({'Supermarket Type1' : 1, 'Supermarket Type2' : 0, 'Supermarket Type3' : 0, 'Grocery Store' : 0})\n",
    "imputations['Outlet_Type_SM2'] = imputations.Outlet_Type.replace({'Supermarket Type1' : 0, 'Supermarket Type2' : 1, 'Supermarket Type3' : 0, 'Grocery Store' : 0})\n",
    "imputations['Outlet_Type_SM3'] = imputations.Outlet_Type.replace({'Supermarket Type1' : 0, 'Supermarket Type2' : 0, 'Supermarket Type3' : 1, 'Grocery Store' : 0})\n"
   ]
  },
  {
   "cell_type": "code",
   "execution_count": 38,
   "metadata": {},
   "outputs": [],
   "source": [
    "Item_Type_Groups = imputations.Item_Type.replace({'Fruits and Vegetables' : 'Food', 'Snack Foods' : 'Food', 'Frozen Foods' : 'Food', 'Dairy' : 'Food', 'Canned' : 'Food', 'Baking Goods' : 'Food', 'Meat' : 'Food', 'Breads' : 'Food', 'Starchy Foods' : 'Food', 'Breakfast' : 'Food', 'Seafood' : 'Food', 'Household' : 'Household and Hygiene', 'Health and Hygiene' : 'Household and Hygiene', 'Soft Drinks' : 'Drinks', 'Hard Drinks' : 'Drinks'})\n",
    "imputations['Item_Type_Food'] = Item_Type_Groups.replace({'Food' : 1, 'Household and Hygiene' : 0, 'Drinks' : 0, 'Others' : 0})\n",
    "imputations['Item_Type_HandH'] = Item_Type_Groups.replace({'Food' : 0, 'Household and Hygiene' : 1, 'Drinks' : 0, 'Others' : 0})\n",
    "imputations['Item_Type_Drinks'] = Item_Type_Groups.replace({'Food' : 0, 'Household and Hygiene' : 0, 'Drinks' : 1, 'Others' : 0})\n",
    "                                      "
   ]
  },
  {
   "cell_type": "code",
   "execution_count": 39,
   "metadata": {},
   "outputs": [],
   "source": [
    "imputations['Item_Fat_Content_Low'] = imputations.Item_Fat_Content.replace({'Low Fat' : 1,'Regular' : 0})\n",
    "imputations['Outlet_Size_Small'] = imputations.Outlet_Size.replace({'Small' : 1, 'Medium' : 0, 'High' : 0})\n",
    "imputations['Outlet_Size_Medium'] = imputations.Outlet_Size.replace({'Small' : 0, 'Medium' : 1, 'High' : 0})\n",
    "imputations['Item_Visibility_inverse'] = 1/imputations.Item_Visibility\n",
    "imputations['Outlet_Years_Operating'] = 2013 - imputations[['Outlet_Establishment_Year']]\n",
    "imputations = imputations.drop(imputations[outliers].index)"
   ]
  },
  {
   "cell_type": "markdown",
   "metadata": {},
   "source": [
    "### 5. Splitting data into train and test data and setting a baseline for model evaluation\n",
    "\n",
    "Root mean square error (RMSE) is the metric used for evaluating model performance."
   ]
  },
  {
   "cell_type": "code",
   "execution_count": 40,
   "metadata": {},
   "outputs": [],
   "source": [
    "from sklearn.model_selection import train_test_split\n",
    "imputations_train, imputations_test = train_test_split(imputations, test_size = 0.3, random_state = 123)"
   ]
  },
  {
   "cell_type": "code",
   "execution_count": 41,
   "metadata": {},
   "outputs": [
    {
     "name": "stdout",
     "output_type": "stream",
     "text": [
      "Baseline Root Mean Square Error is: 1488.9780817771732\n"
     ]
    }
   ],
   "source": [
    "baseline_guess = np.mean(imputations_train.Item_Outlet_Sales)\n",
    "def RMSE(string, y_true, y_pred):\n",
    "    value = np.sqrt(np.square(np.subtract(y_true, y_pred)).mean())\n",
    "    print(string + ' ' + 'Root Mean Square Error is: ' + str(value))\n",
    "\n",
    "RMSE('Baseline', imputations_test.Item_Outlet_Sales, baseline_guess)"
   ]
  },
  {
   "cell_type": "markdown",
   "metadata": {},
   "source": [
    "### 6. Building the model"
   ]
  },
  {
   "cell_type": "code",
   "execution_count": 42,
   "metadata": {},
   "outputs": [],
   "source": [
    "import statsmodels.api as sm\n",
    "from sklearn import linear_model as lm"
   ]
  },
  {
   "cell_type": "code",
   "execution_count": 43,
   "metadata": {},
   "outputs": [
    {
     "data": {
      "text/plain": [
       "Index(['Item_Weight', 'Item_Fat_Content', 'Item_Visibility', 'Item_Type',\n",
       "       'Item_MRP', 'Outlet_Establishment_Year', 'Outlet_Size',\n",
       "       'Outlet_Location_Type', 'Outlet_Type', 'Item_Outlet_Sales',\n",
       "       'Item_Identifier', 'Outlet_Identifier', 'Outlet_Type_SM1',\n",
       "       'Outlet_Type_SM2', 'Outlet_Type_SM3', 'Item_Type_Food',\n",
       "       'Item_Type_HandH', 'Item_Type_Drinks', 'Item_Fat_Content_Low',\n",
       "       'Outlet_Size_Small', 'Outlet_Size_Medium', 'Item_Visibility_inverse',\n",
       "       'Outlet_Years_Operating'],\n",
       "      dtype='object')"
      ]
     },
     "execution_count": 43,
     "metadata": {},
     "output_type": "execute_result"
    }
   ],
   "source": [
    "imputations.columns"
   ]
  },
  {
   "cell_type": "markdown",
   "metadata": {},
   "source": [
    "#### 6.1 Making the broadest model possible to get a hint about which variables to use in the final model\n",
    "\n",
    "This model will be called Model 1"
   ]
  },
  {
   "cell_type": "code",
   "execution_count": 52,
   "metadata": {},
   "outputs": [
    {
     "name": "stdout",
     "output_type": "stream",
     "text": [
      "                            OLS Regression Results                            \n",
      "==============================================================================\n",
      "Dep. Variable:      Item_Outlet_Sales   R-squared:                       0.560\n",
      "Model:                            OLS   Adj. R-squared:                  0.559\n",
      "Method:                 Least Squares   F-statistic:                     569.5\n",
      "Date:                Sat, 02 Nov 2019   Prob (F-statistic):               0.00\n",
      "Time:                        15:44:25   Log-Likelihood:                -48609.\n",
      "No. Observations:                5835   AIC:                         9.725e+04\n",
      "Df Residuals:                    5821   BIC:                         9.734e+04\n",
      "Df Model:                          13                                         \n",
      "Covariance Type:            nonrobust                                         \n",
      "===========================================================================================\n",
      "                              coef    std err          t      P>|t|      [0.025      0.975]\n",
      "-------------------------------------------------------------------------------------------\n",
      "const                   -1527.9886    150.107    -10.179      0.000   -1822.255   -1233.722\n",
      "Item_Weight                -0.9601      2.995     -0.321      0.749      -6.831       4.911\n",
      "Item_MRP                   13.8422      0.214     64.815      0.000      13.424      14.261\n",
      "Outlet_Type_SM1          1916.1813     47.765     40.116      0.000    1822.543    2009.819\n",
      "Outlet_Type_SM2          1586.8307     74.566     21.281      0.000    1440.654    1733.007\n",
      "Outlet_Type_SM3          3025.4494     65.384     46.272      0.000    2897.272    3153.627\n",
      "Item_Type_Food              7.9885     96.989      0.082      0.934    -182.146     198.123\n",
      "Item_Type_HandH           -62.5924     99.886     -0.627      0.531    -258.407     133.222\n",
      "Item_Type_Drinks          -34.2635    105.824     -0.324      0.746    -241.718     173.191\n",
      "Item_Visibility_inverse     0.2971      0.508      0.585      0.559      -0.699       1.294\n",
      "Outlet_Years_Operating     -2.8164      2.839     -0.992      0.321      -8.383       2.750\n",
      "Item_Fat_Content_Low      -60.5894     30.153     -2.009      0.045    -119.701      -1.478\n",
      "Outlet_Size_Small          24.2665     47.480      0.511      0.609     -68.812     117.345\n",
      "Outlet_Size_Medium         -1.4231     52.299     -0.027      0.978    -103.949     101.102\n",
      "==============================================================================\n",
      "Omnibus:                      150.867   Durbin-Watson:                   2.047\n",
      "Prob(Omnibus):                  0.000   Jarque-Bera (JB):              183.931\n",
      "Skew:                           0.333   Prob(JB):                     1.15e-40\n",
      "Kurtosis:                       3.559   Cond. No.                     2.45e+03\n",
      "==============================================================================\n",
      "\n",
      "Warnings:\n",
      "[1] Standard Errors assume that the covariance matrix of the errors is correctly specified.\n",
      "[2] The condition number is large, 2.45e+03. This might indicate that there are\n",
      "strong multicollinearity or other numerical problems.\n",
      "Model 1 Root Mean Square Error is: 1003.9896634655016\n"
     ]
    }
   ],
   "source": [
    "predictors_1 = imputations_train[['Item_Weight',\n",
    "       'Item_MRP', 'Outlet_Type_SM1',\n",
    "       'Outlet_Type_SM2', 'Outlet_Type_SM3', 'Item_Type_Food',\n",
    "       'Item_Type_HandH', 'Item_Type_Drinks', 'Item_Visibility_inverse',\n",
    "       'Outlet_Years_Operating', 'Item_Fat_Content_Low', 'Outlet_Size_Small',\n",
    "       'Outlet_Size_Medium']]\n",
    "\n",
    "predictors_1 = sm.add_constant(predictors_1)\n",
    "model_1 = sm.OLS(imputations_train.Item_Outlet_Sales, predictors_1)\n",
    "result_1 = model_1.fit()\n",
    "print(result_1.summary())\n",
    "RMSE('Model 1', imputations_train.Item_Outlet_Sales, result_1.predict(predictors_1))"
   ]
  },
  {
   "cell_type": "markdown",
   "metadata": {},
   "source": [
    "#### 6.2 Making a model with selected variables\n",
    "\n",
    "We can see that Model 1 possibly has multicollinearity problem (which was expected based on the Pearson and chi square tests in section 3.2) and that not all of the predictor variables are significant. Because of this we will make a model that only has variables that are significant in the previous model. This model will be called Model 2"
   ]
  },
  {
   "cell_type": "code",
   "execution_count": 55,
   "metadata": {},
   "outputs": [
    {
     "name": "stdout",
     "output_type": "stream",
     "text": [
      "                            OLS Regression Results                            \n",
      "==============================================================================\n",
      "Dep. Variable:      Item_Outlet_Sales   R-squared:                       0.559\n",
      "Model:                            OLS   Adj. R-squared:                  0.559\n",
      "Method:                 Least Squares   F-statistic:                     1480.\n",
      "Date:                Sat, 02 Nov 2019   Prob (F-statistic):               0.00\n",
      "Time:                        15:46:45   Log-Likelihood:                -48613.\n",
      "No. Observations:                5835   AIC:                         9.724e+04\n",
      "Df Residuals:                    5829   BIC:                         9.728e+04\n",
      "Df Model:                           5                                         \n",
      "Covariance Type:            nonrobust                                         \n",
      "========================================================================================\n",
      "                           coef    std err          t      P>|t|      [0.025      0.975]\n",
      "----------------------------------------------------------------------------------------\n",
      "const                -1571.3551     50.244    -31.275      0.000   -1669.851   -1472.859\n",
      "Item_Fat_Content_Low   -82.9800     27.484     -3.019      0.003    -136.859     -29.101\n",
      "Item_MRP                13.8372      0.213     64.901      0.000      13.419      14.255\n",
      "Outlet_Type_SM1       1935.1068     39.388     49.129      0.000    1857.892    2012.322\n",
      "Outlet_Type_SM2       1620.8581     53.671     30.200      0.000    1515.644    1726.072\n",
      "Outlet_Type_SM3       2991.9902     54.705     54.693      0.000    2884.747    3099.233\n",
      "==============================================================================\n",
      "Omnibus:                      153.764   Durbin-Watson:                   2.047\n",
      "Prob(Omnibus):                  0.000   Jarque-Bera (JB):              187.660\n",
      "Skew:                           0.337   Prob(JB):                     1.78e-41\n",
      "Kurtosis:                       3.563   Cond. No.                         933.\n",
      "==============================================================================\n",
      "\n",
      "Warnings:\n",
      "[1] Standard Errors assume that the covariance matrix of the errors is correctly specified.\n",
      "Model 2 Root Mean Square Error is: 1004.5530876824596\n"
     ]
    }
   ],
   "source": [
    "predictors_2 = imputations_train[['Item_Fat_Content_Low',       \n",
    "                             'Item_MRP',  \n",
    "                             'Outlet_Type_SM1',\n",
    "                             'Outlet_Type_SM2',\n",
    "                             'Outlet_Type_SM3']]\n",
    "\n",
    "predictors_2 = sm.add_constant(predictors_2)\n",
    "model_2 = sm.OLS(imputations_train.Item_Outlet_Sales, predictors_2)\n",
    "result_2 = model_2.fit()\n",
    "print(result_2.summary())\n",
    "RMSE('Model 2', imputations_train.Item_Outlet_Sales, result_2.predict(predictors_2))"
   ]
  },
  {
   "cell_type": "markdown",
   "metadata": {},
   "source": [
    "Model 2 has no multicollinearity and all the variables are significant. Also, the Skewness and Kurtosis metrics suggest that errors are fairly normally distributed, and Durbin-Watson suggests that there is no autocorrelation. Furthermore, Model 2 RMSE is lower than the baseline. All this suggest that this model can be used to predict sales.\n",
    "\n",
    "Because Model 2 above doesn't include some variables (like Item_Visibility and Outlet_Size) that can be expected to have meaning in prediction of sales, another model with some of those variables is built below (Model 3)."
   ]
  },
  {
   "cell_type": "code",
   "execution_count": 54,
   "metadata": {},
   "outputs": [
    {
     "name": "stdout",
     "output_type": "stream",
     "text": [
      "                            OLS Regression Results                            \n",
      "==============================================================================\n",
      "Dep. Variable:      Item_Outlet_Sales   R-squared:                       0.028\n",
      "Model:                            OLS   Adj. R-squared:                  0.027\n",
      "Method:                 Least Squares   F-statistic:                     27.58\n",
      "Date:                Sat, 02 Nov 2019   Prob (F-statistic):           1.22e-32\n",
      "Time:                        15:46:40   Log-Likelihood:                -50922.\n",
      "No. Observations:                5835   AIC:                         1.019e+05\n",
      "Df Residuals:                    5828   BIC:                         1.019e+05\n",
      "Df Model:                           6                                         \n",
      "Covariance Type:            nonrobust                                         \n",
      "===========================================================================================\n",
      "                              coef    std err          t      P>|t|      [0.025      0.975]\n",
      "-------------------------------------------------------------------------------------------\n",
      "const                    1851.2730    150.636     12.290      0.000    1555.971    2146.575\n",
      "Item_Visibility_inverse     3.7938      0.748      5.072      0.000       2.327       5.260\n",
      "Outlet_Size_Small        -287.6898     59.110     -4.867      0.000    -403.568    -171.812\n",
      "Outlet_Size_Medium        190.3609     58.090      3.277      0.001      76.483     304.239\n",
      "Item_Type_Food            170.6767    142.422      1.198      0.231    -108.524     449.877\n",
      "Item_Type_HandH            95.7638    148.297      0.646      0.518    -194.953     386.481\n",
      "Item_Type_Drinks          -57.2398    156.852     -0.365      0.715    -364.728     250.249\n",
      "==============================================================================\n",
      "Omnibus:                      484.990   Durbin-Watson:                   2.011\n",
      "Prob(Omnibus):                  0.000   Jarque-Bera (JB):              614.190\n",
      "Skew:                           0.793   Prob(JB):                    4.27e-134\n",
      "Kurtosis:                       2.891   Cond. No.                         540.\n",
      "==============================================================================\n",
      "\n",
      "Warnings:\n",
      "[1] Standard Errors assume that the covariance matrix of the errors is correctly specified.\n",
      "Model 3 Root Mean Square Error is: 1492.2177402770699\n"
     ]
    }
   ],
   "source": [
    "predictors_3 = imputations_train[['Item_Visibility_inverse','Outlet_Size_Small',\n",
    "       'Outlet_Size_Medium', 'Item_Type_Food', 'Item_Type_HandH', 'Item_Type_Drinks']]\n",
    "\n",
    "predictors_3 = sm.add_constant(predictors_3)\n",
    "model_3 = sm.OLS(imputations_train.Item_Outlet_Sales, predictors_3)\n",
    "result_3 = model_3.fit()\n",
    "print(result_3.summary())\n",
    "RMSE('Model 3', imputations_train.Item_Outlet_Sales, result_3.predict(predictors_3))"
   ]
  },
  {
   "cell_type": "markdown",
   "metadata": {},
   "source": [
    "Model 3 doesn't perform better than the baseline and has insignificant variables. Because of that, this model can't be used for prediction.\n",
    "\n",
    "The final model is Model 2 because it performs the best and satisfies all assumptions of linear regression."
   ]
  },
  {
   "cell_type": "markdown",
   "metadata": {},
   "source": [
    "### 7. Checking for overfitting\n",
    "\n",
    "Checking for overfitting is done using Scikit Learn library"
   ]
  },
  {
   "cell_type": "code",
   "execution_count": 60,
   "metadata": {},
   "outputs": [
    {
     "name": "stdout",
     "output_type": "stream",
     "text": [
      "Model 2 Root Mean Square Error is: 1004.5530876824596\n",
      "Test Root Mean Square Error is: 1004.1692681444781\n"
     ]
    }
   ],
   "source": [
    "predictors_sk = imputations_train[['Item_Fat_Content_Low',  \n",
    "                             'Item_MRP',  \n",
    "                             'Outlet_Type_SM1',\n",
    "                             'Outlet_Type_SM2',\n",
    "                             'Outlet_Type_SM3']]\n",
    "model_sk = lm.LinearRegression()\n",
    "result_sk = model_sk.fit(predictors_sk, imputations_train.Item_Outlet_Sales)\n",
    "predictors_sk_test = imputations_test[['Item_Fat_Content_Low',  \n",
    "                             'Item_MRP',  \n",
    "                             'Outlet_Type_SM1',\n",
    "                             'Outlet_Type_SM2',\n",
    "                             'Outlet_Type_SM3']]\n",
    "predictions_sk_train = model_ols.predict(predictors_sk)\n",
    "predictions_sk_test = model_ols.predict(predictors_sk_test)\n",
    "\n",
    "RMSE('Model 2', imputations_train.Item_Outlet_Sales, predictions_sk_train)\n",
    "RMSE('Test', imputations_test.Item_Outlet_Sales, predictions_sk_test)"
   ]
  },
  {
   "cell_type": "markdown",
   "metadata": {},
   "source": [
    "We see that RMSE is similar for both train and test datasets, which means that there is no overfitting in Model 2."
   ]
  },
  {
   "cell_type": "markdown",
   "metadata": {},
   "source": [
    "### 8. Interpreting the model"
   ]
  },
  {
   "cell_type": "code",
   "execution_count": 75,
   "metadata": {},
   "outputs": [
    {
     "name": "stdout",
     "output_type": "stream",
     "text": [
      "Index(['Item_Fat_Content_Low', 'Item_MRP', 'Outlet_Type_SM1',\n",
      "       'Outlet_Type_SM2', 'Outlet_Type_SM3'],\n",
      "      dtype='object')\n"
     ]
    },
    {
     "data": {
      "text/plain": [
       "array([ -82.9800427 ,   13.83715117, 1935.10684266, 1620.85806242,\n",
       "       2991.99022401])"
      ]
     },
     "execution_count": 75,
     "metadata": {},
     "output_type": "execute_result"
    }
   ],
   "source": [
    "print(predictors_sk.columns)\n",
    "result_sk.coef_"
   ]
  },
  {
   "cell_type": "markdown",
   "metadata": {},
   "source": [
    "Regression coefficients lead to following conclusions:\n",
    "1. Items with low fat content have lower sales by 83 dollars on average than items with regular fat content.\n",
    "2. When the price of item increases by one dollar, the sales of item increase by 13.8 dollars on average. This implies that store sells mostly inelastic goods.\n",
    "3. On average, all supermarkets have bigger sales than grocery stores, with supermarkets of type 3 making the most money, followed by supermarkets of type 1, and then type 2."
   ]
  },
  {
   "cell_type": "code",
   "execution_count": null,
   "metadata": {},
   "outputs": [],
   "source": []
  }
 ],
 "metadata": {
  "kernelspec": {
   "display_name": "Python 3",
   "language": "python",
   "name": "python3"
  },
  "language_info": {
   "codemirror_mode": {
    "name": "ipython",
    "version": 3
   },
   "file_extension": ".py",
   "mimetype": "text/x-python",
   "name": "python",
   "nbconvert_exporter": "python",
   "pygments_lexer": "ipython3",
   "version": "3.7.4"
  }
 },
 "nbformat": 4,
 "nbformat_minor": 2
}
